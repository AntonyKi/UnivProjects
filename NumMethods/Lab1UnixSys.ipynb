{
 "cells": [
  {
   "cell_type": "code",
   "execution_count": null,
   "metadata": {},
   "outputs": [],
   "source": [
    "import os\n",
    "def get_size(start_path = '.'):\n",
    "    a = stats()\n",
    "    for dirpath, dirnames, filenames in os.walk(start_path):\n",
    "        for f in filenames:\n",
    "            fp = os.path.join(dirpath, f)\n",
    "            cur_size = os.path.getsize(fp)\n",
    "    return total_size"
   ]
  },
  {
   "cell_type": "code",
   "execution_count": 3,
   "metadata": {},
   "outputs": [
    {
     "ename": "SyntaxError",
     "evalue": "invalid syntax (<ipython-input-3-36019fe49e3e>, line 24)",
     "output_type": "error",
     "traceback": [
      "\u001b[1;36m  File \u001b[1;32m\"<ipython-input-3-36019fe49e3e>\"\u001b[1;36m, line \u001b[1;32m24\u001b[0m\n\u001b[1;33m    def addstat(stat)\u001b[0m\n\u001b[1;37m                     ^\u001b[0m\n\u001b[1;31mSyntaxError\u001b[0m\u001b[1;31m:\u001b[0m invalid syntax\n"
     ]
    }
   ],
   "source": [
    "import numpy as np\n",
    "import mathplotlib.pyplot as plt\n",
    "class stats:\n",
    "    #less or equal 1kb\n",
    "    amount1 = 0\n",
    "    #1kb - 16kb\n",
    "    amount2 = 0\n",
    "    #16kb - 64kb\n",
    "    amount3 = 0\n",
    "    #64kb - 128kb\n",
    "    amount4 = 0\n",
    "    #128kb - 512kb\n",
    "    amount5 = 0\n",
    "    #512kb - 1mb\n",
    "    amount6 = 0\n",
    "    #1mb - 2mb\n",
    "    amount7 = 0\n",
    "    #2mb - 4mb\n",
    "    amount8 = 0\n",
    "    #4mb - 16mb\n",
    "    amount9 = 0\n",
    "    #16mb - 1gb\n",
    "    amount10 = 0\n",
    "    #more or equal 1gb\n",
    "    amount11 = 0\n",
    "    \n",
    "    \n",
    "    def addstat(stat):\n",
    "        this.amount1 += stat.amount1\n",
    "        this.amount2 += stat.amount2\n",
    "        this.amount3 += stat.amount3\n",
    "        this.amount4 += stat.amount4\n",
    "        this.amount5 += stat.amount5\n",
    "        this.amount6 += stat.amount6\n",
    "        this.amount7 += stat.amount7\n",
    "        this.amount8 += stat.amount8\n",
    "        this.amount9 += stat.amount9\n",
    "        this.amount10 += stat.amount10\n",
    "        this.amount11 += stat.amount11\n",
    "        \n",
    "        \n",
    "    def add(a):\n",
    "        if(a<1024):\n",
    "            amount1++\n",
    "        else if(a<16384):\n",
    "            amount2++\n",
    "        else if(a<16384*4)\n",
    "            amount3++\n",
    "        else if(a<1024*128):\n",
    "            amount4++\n",
    "        else if(a<1024*512):\n",
    "            amount5++\n",
    "        else if(a<1024*1024):\n",
    "            amount6++\n",
    "        else if(a<1024*1024*2):\n",
    "            amount7++\n",
    "        else if(a<1024*1024*4):\n",
    "            amount8++\n",
    "        else if(a<1024*1024*16):\n",
    "            amount9++\n",
    "        else if(a<1024*1024*1024):\n",
    "            amount10++\n",
    "        else amount11++\n",
    "    \n",
    "    def viewStatDiagram():\n",
    "        \n",
    "        "
   ]
  }
 ],
 "metadata": {
  "kernelspec": {
   "display_name": "Python 3",
   "language": "python",
   "name": "python3"
  },
  "language_info": {
   "codemirror_mode": {
    "name": "ipython",
    "version": 3
   },
   "file_extension": ".py",
   "mimetype": "text/x-python",
   "name": "python",
   "nbconvert_exporter": "python",
   "pygments_lexer": "ipython3",
   "version": "3.6.4"
  }
 },
 "nbformat": 4,
 "nbformat_minor": 2
}
