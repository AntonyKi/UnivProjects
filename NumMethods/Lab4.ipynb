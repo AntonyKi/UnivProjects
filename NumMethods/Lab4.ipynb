{
 "cells": [
  {
   "cell_type": "code",
   "execution_count": 1,
   "metadata": {},
   "outputs": [],
   "source": [
    "class Polynomial:\n",
    "    def __init__(self, *args):\n",
    "        if len(args) > 0:\n",
    "            if len(args) == 1 and type(args[0]) is np.ndarray:\n",
    "                self.degree = len(args[0]) - 1\n",
    "                self.coefficients = args[0]\n",
    "            else:\n",
    "                self.degree = len(args) - 1\n",
    "                if USE_FRACTION:\n",
    "                    self.coefficients = np.array(list(map(Fraction, args)))\n",
    "                else:\n",
    "                    self.coefficients = np.array(list(map(float, args)))\n",
    "        else:\n",
    "            self.degree = 0\n",
    "            self.coefficients = np.array([0])\n",
    "        self.normalize()\n",
    "\n",
    "    def val(self, x):\n",
    "        return np.polyval(self.coefficients[::-1], x)\n",
    "\n",
    "    def normalize(self):\n",
    "        while self.degree > 0 and self.coefficients[-1] == 0:\n",
    "            self.coefficients = np.delete(self.coefficients, -1)\n",
    "            self.degree -= 1\n",
    "\n",
    "    def __add__(self, other):\n",
    "        return Polynomial(np.polyadd(self.coefficients[::-1], other.coefficients[::-1])[::-1])\n",
    "\n",
    "    def __sub__(self, other):\n",
    "        return Polynomial(np.polysub(self.coefficients[::-1], other.coefficients[::-1])[::-1])\n",
    "\n",
    "    def __mul__(self, other):\n",
    "        if type(other) is Polynomial:\n",
    "            return Polynomial(np.polymul(self.coefficients[::-1], other.coefficients[::-1])[::-1])\n",
    "        return Polynomial(self.coefficients * other)\n",
    "\n",
    "    def __truediv__(self, other):\n",
    "        return Polynomial(self.coefficients / other)\n",
    "\n",
    "    def __eq__(self, other):\n",
    "        return self.coefficients == other.coefficients\n",
    "\n",
    "    def __str__(self):\n",
    "        #print(self.coefficients)\n",
    "        p = [(\n",
    "                 '{}*x^{}'.format(round(float(a), 5), i) if abs(a) != 1\n",
    "                 else\n",
    "                 (\n",
    "                     'x^{}'.format(i) if a == 1\n",
    "                     else\n",
    "                     '-x^{}'.format(i)\n",
    "                 )\n",
    "             ) if i > 0 else str(round(float(a), 5))\n",
    "             for i, a in enumerate(self.coefficients) if a != 0 or self.degree == 0]\n",
    "        return 'P[n={}, {}]'.format(self.degree, '+'.join(p[::-1]).replace('+-', '-').replace('^1', ''))\n",
    "\n",
    "        "
   ]
  },
  {
   "cell_type": "code",
   "execution_count": 2,
   "metadata": {},
   "outputs": [],
   "source": [
    "def f(x):\n",
    "    return np.log2(np.cos(x))        "
   ]
  },
  {
   "cell_type": "code",
   "execution_count": 3,
   "metadata": {},
   "outputs": [],
   "source": [
    "def getNewtonePoly():\n",
    "    thispoly = Polynomial()\n",
    "    for j in range(len(points)):\n",
    "        currpoly = Polynomial(1) \n",
    "        for i in range(j):\n",
    "            pol = Polynomial(-1*points[i] ,1 )\n",
    "            currpoly *= pol\n",
    "        thispoly += currpoly*coefs[0][j]\n",
    "    return thispoly"
   ]
  },
  {
   "cell_type": "code",
   "execution_count": 4,
   "metadata": {},
   "outputs": [],
   "source": [
    "def getResidual(l , r, coefs):\n",
    "    if(r == l):\n",
    "        coefs[l][r] = f(points[r])\n",
    "    else: \n",
    "        #print(l, r, coefs[l][r])\n",
    "        if(np.isnan(coefs[l][r])):\n",
    "            coefs[l][r] = (getResidual(l + 1, r, coefs) - getResidual(l, r - 1, coefs)) / (points[r] - points[l])\n",
    "    return coefs[l][r]\n"
   ]
  },
  {
   "cell_type": "code",
   "execution_count": 5,
   "metadata": {},
   "outputs": [],
   "source": [
    "def getChebyshevZeros(amount):\n",
    "    return np.array([np.cos(pi*(2*i + 1)/(2*amount)) for i in range(amount)])"
   ]
  },
  {
   "cell_type": "code",
   "execution_count": 6,
   "metadata": {},
   "outputs": [],
   "source": [
    "def getUnifDistribution(amount):\n",
    "    return np.array([-pi/3 + i/(amount-1) * 2*pi/3 for i in range(amount)])"
   ]
  },
  {
   "cell_type": "code",
   "execution_count": 7,
   "metadata": {},
   "outputs": [],
   "source": [
    "def getMaxDelta():\n",
    "    max_d = 0\n",
    "    for i in range(0,100):\n",
    "        x_i = (-1 * math.pi/3) + (2*math.pi/(300))*i\n",
    "        #print(polynom.val(x_i), f(x_i))\n",
    "        if(max_d < np.abs(f(x_i) - polynom.val(x_i))):\n",
    "            max_d = np.abs(f(x_i) - polynom.val(x_i))\n",
    "    return max_d"
   ]
  },
  {
   "cell_type": "code",
   "execution_count": 16,
   "metadata": {},
   "outputs": [
    {
     "name": "stdout",
     "output_type": "stream",
     "text": [
      "1 for uniform distribution , 2 for zeros of Chebyshev polynomial\n",
      "2\n",
      "Amount of points for interpolation:\n",
      "20\n",
      "P[n=19, 0.0*x9-0.00042*x8-0.0*x7+0.00095*x6+0.0*x5-0.00187*x4-0.0*x3+0.0001*x2+0.0*x1-0.0037*x0-0.0*x^9-0.00958*x^8+0.0*x^7-0.03208*x^6-0.0*x^5-0.12022*x^4+0.0*x^3-0.72135*x^2+0.0*x+0.0]\n",
      "Maximum difference:\n",
      "1.1444947289884766e-07\n"
     ]
    }
   ],
   "source": [
    "#main\n",
    "from math import pi\n",
    "import numpy as np\n",
    "import matplotlib.pyplot as plt\n",
    "import math\n",
    "import sympy as sp\n",
    "from sympy.plotting import plot\n",
    "%matplotlib inline\n",
    "sp.init_printing\n",
    "\n",
    "from fractions import Fraction\n",
    "to_fraction = np.vectorize(lambda x: Fraction(x))\n",
    "USE_FRACTION = False\n",
    "\n",
    "print(\"1 for uniform distribution , 2 for zeros of Chebyshev polynomial\")\n",
    "check = int(input())\n",
    "print(\"Amount of points for interpolation:\")\n",
    "n_points = int(input())\n",
    "\n",
    "\n",
    "\n",
    "if(check == 1):\n",
    "    points = getUnifDistribution(n_points)\n",
    "else:\n",
    "    points = getChebyshevZeros(n_points)\n",
    "\n",
    "n_points = len(points)\n",
    "\n",
    "coefs = np.zeros((len(points),len(points)))\n",
    "coefs.fill(None)\n",
    "getResidual(0 , len(points)-1, coefs)\n",
    "polynom = getNewtonePoly()\n",
    "print(polynom)\n",
    "print(\"Maximum difference:\")\n",
    "print(getMaxDelta())\n",
    "#print(getRnResidual(-1,len(points)-1))"
   ]
  },
  {
   "cell_type": "code",
   "execution_count": 17,
   "metadata": {},
   "outputs": [
    {
     "data": {
      "text/plain": [
       "[<matplotlib.lines.Line2D at 0x1ab89dd1a20>,\n",
       " <matplotlib.lines.Line2D at 0x1ab89dd1b70>]"
      ]
     },
     "execution_count": 17,
     "metadata": {},
     "output_type": "execute_result"
    },
    {
     "data": {
      "image/png": "[encoded data removed]",
      "text/plain": [
       "<Figure size 432x288 with 1 Axes>"
      ]
     },
     "metadata": {},
     "output_type": "display_data"
    }
   ],
   "source": [
    "x = np.arange(-math.pi/3, math.pi/3, .01)\n",
    "y = polynom.val(x)\n",
    "\n",
    "plt.plot(x, y,'r',x,f(x),'b')"
   ]
  },
  {
   "cell_type": "code",
   "execution_count": 10,
   "metadata": {},
   "outputs": [
    {
     "data": {
      "text/plain": [
       "array([-1.04719755, -0.34906585,  0.34906585,  1.04719755])"
      ]
     },
     "execution_count": 10,
     "metadata": {},
     "output_type": "execute_result"
    }
   ],
   "source": [
    "points"
   ]
  },
  {
   "cell_type": "code",
   "execution_count": 11,
   "metadata": {},
   "outputs": [
    {
     "data": {
      "text/plain": [
       "array([[-1.00000000e+00,  1.30385259e+00, -9.33815630e-01,\n",
       "         1.06018489e-16],\n",
       "       [            nan, -8.97391753e-02, -2.38541601e-16,\n",
       "        -9.33815630e-01],\n",
       "       [            nan,             nan, -8.97391753e-02,\n",
       "        -1.30385259e+00],\n",
       "       [            nan,             nan,             nan,\n",
       "        -1.00000000e+00]])"
      ]
     },
     "execution_count": 11,
     "metadata": {},
     "output_type": "execute_result"
    }
   ],
   "source": [
    "coefs"
   ]
  },
  {
   "cell_type": "code",
   "execution_count": null,
   "metadata": {},
   "outputs": [],
   "source": []
  },
  {
   "cell_type": "code",
   "execution_count": null,
   "metadata": {},
   "outputs": [],
   "source": []
  },
  {
   "cell_type": "code",
   "execution_count": null,
   "metadata": {},
   "outputs": [],
   "source": []
  },
  {
   "cell_type": "code",
   "execution_count": null,
   "metadata": {},
   "outputs": [],
   "source": []
  }
 ],
 "metadata": {
  "kernelspec": {
   "display_name": "Python 3",
   "language": "python",
   "name": "python3"
  },
  "language_info": {
   "codemirror_mode": {
    "name": "ipython",
    "version": 3
   },
   "file_extension": ".py",
   "mimetype": "text/x-python",
   "name": "python",
   "nbconvert_exporter": "python",
   "pygments_lexer": "ipython3",
   "version": "3.6.4"
  }
 },
 "nbformat": 4,
 "nbformat_minor": 2
}
