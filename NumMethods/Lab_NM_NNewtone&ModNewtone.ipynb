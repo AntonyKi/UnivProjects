{
 "cells": [
  {
   "cell_type": "code",
   "execution_count": 1,
   "metadata": {
    "scrolled": true
   },
   "outputs": [],
   "source": [
    "def range_check(a,b, acc):\n",
    "    # roots of f'(x)\n",
    "    \n",
    "    r1 =  -1.38047614284762\n",
    "    r2 = 3.38047614284762\n",
    "    \n",
    "    # conditions for its convergence\n",
    "    x0 = (a+b)/2\n",
    "    if (a<r1 and b>r1) or (a<r2 and b>r2):\n",
    "        return False\n",
    "    else :\n",
    "        minn = min(abs(3*a*a - 6*a - 14),abs(3*b*b - 6*b - 14))\n",
    "    if((x0*x0*x0 - 3*x0*x0 -14*x0 -8)*(6*x0 -6)<=0):\n",
    "        return False\n",
    "    maxx = max(abs(6*a - 6), abs(6*b-6))\n",
    "    res = maxx*(b - a) / (4 * minn)\n",
    "    estimated_iter(a,b,acc,res)\n",
    "    if (res < 1):\n",
    "        return True \n",
    "    else: \n",
    "        return False"
   ]
  },
  {
   "cell_type": "code",
   "execution_count": 2,
   "metadata": {},
   "outputs": [],
   "source": [
    "def Normal_Newtone(acc,a,b):\n",
    "    if (range_check(a, b,acc) == False):\n",
    "        print(\"method will never converge with such choise of (a,b)\")\n",
    "        return\n",
    "    x1 = 0\n",
    "    x2 = (a+b)/2\n",
    "    ax.plot([x2], [x2*x2*x2 - 3*x2*x2 - 14*x2 - 8], 'ro')\n",
    "    iteration_number = 0;\n",
    "    \n",
    "    while abs(x2 - x1) > acc :\n",
    "        iteration_number+=1\n",
    "        x1 = x2\n",
    "        x2 = x2 - (x2*x2*x2 - 3 * x2*x2 - 14 * x2 -8) / (3 * x2*x2 - 6 * x2 - 14)\n",
    "        ax.plot([x2], [x2*x2*x2 - 3*x2*x2 - 14*x2 - 8], 'ro')\n",
    "    print(\"Real number of iterations is:\")\n",
    "    print(iteration_number)\n",
    "    print(\"Root:\")\n",
    "    print(x2)\n"
   ]
  },
  {
   "cell_type": "code",
   "execution_count": 3,
   "metadata": {},
   "outputs": [],
   "source": [
    "def Modified_Newtone(acc,x0):\n",
    "    x1 = 0\n",
    "    x2 = x0\n",
    "    ax.plot(x2, x2*x2*x2 - 3*x2*x2 - 14*x2 - 8, 'ro')\n",
    "    iteration_number = 0\n",
    "    cc = (3 * x2*x2 - 6 * x2 - 14)\n",
    "    while abs(x2 - x1) > acc: \n",
    "        iteration_number+=1\n",
    "        x1 = x2\n",
    "        x2 = x2 - (x2*x2*x2 - 3*x2*x2 - 14 * x2 -8) / cc\n",
    "        ax.plot(x2, x2*x2*x2 - 3*x2*x2 - 14*x2 - 8, 'ro')\n",
    "    print(\"Real number of iterations is:\")\n",
    "    print(iteration_number)\n",
    "    print(\"Root:\")\n",
    "    print(x2)"
   ]
  },
  {
   "cell_type": "code",
   "execution_count": 4,
   "metadata": {},
   "outputs": [],
   "source": [
    "def estimated_iter(a, b,acc, q):\n",
    "    print(\"Estimated number of iterations (n0(E)):\")\n",
    "    ans = math.log(math.log(abs((a+b)/acc))/math.log(abs(1/q)),2)\n",
    "    ans = math.ceil(ans)\n",
    "    print(ans)"
   ]
  },
  {
   "cell_type": "code",
   "execution_count": 5,
   "metadata": {},
   "outputs": [],
   "source": [
    "def main(accuracy, method, a , b):\n",
    "    print(\"accuracy:\")    \n",
    "    \n",
    "    if (method == 1):\n",
    "        print(\"Normal Newtone\")\n",
    "        Normal_Newtone(accuracy,a,b)\n",
    "        \n",
    "    else :\n",
    "        if(method == 2):\n",
    "            x0 = a\n",
    "            print(\"Modified Newtone\")\n",
    "            Modified_Newtone(accuracy,x0)\n",
    "            \n",
    "    return\n",
    "        \n",
    "\n"
   ]
  },
  {
   "cell_type": "code",
   "execution_count": 6,
   "metadata": {},
   "outputs": [
    {
     "data": {
      "image/png": "[encoded data removed]",
      "text/plain": [
       "<Figure size 432x288 with 1 Axes>"
      ]
     },
     "metadata": {},
     "output_type": "display_data"
    },
    {
     "name": "stdout",
     "output_type": "stream",
     "text": [
      "needed accuracy of method\n",
      "0.0001\n",
      "choose interval by setting (a,b)\n",
      "a=\n",
      "5\n",
      "b=\n",
      "6\n",
      "choose 1 for Normal Newtone, 2 for Modified Newtone\n",
      "2\n",
      "accuracy:\n",
      "Modified Newtone\n",
      "Real number of iterations is:\n",
      "18\n",
      "Root:\n",
      "5.701534080874379\n"
     ]
    }
   ],
   "source": [
    "import matplotlib.pyplot as plt\n",
    "import numpy as np\n",
    "import math\n",
    "import sympy as sp\n",
    "from sympy.plotting import plot\n",
    "%matplotlib inline\n",
    "sp.init_printing\n",
    "\n",
    "\n",
    "x_ = np.arange(-4,7,0.1)\n",
    "x=sp.Symbol(\"x\")\n",
    "y = x*x*x - 3*x*x - 14*x - 8\n",
    "hp = plot(y,(x,-4.0,7.0))\n",
    "fig = hp._backend.fig\n",
    "ax = hp._backend.ax\n",
    "\n",
    "\n",
    "print(\"needed accuracy of method\")\n",
    "accuracy = float(input())\n",
    "print(\"choose interval by setting (a,b)\")\n",
    "print(\"a=\")\n",
    "a = float(input())\n",
    "print(\"b=\")\n",
    "b = float(input())\n",
    "print(\"choose 1 for Normal Newtone, 2 for Modified Newtone\")\n",
    "\n",
    "choise_of_method = float(input())\n",
    "#fig = plt.figure()\n",
    "#ax = fig.add_subplot(111)\n",
    "#ax.plot(x_, y, 'k')\n",
    "#plt.plot(x_,y)\n",
    "#ax.grid(True)\n",
    "main(accuracy,choise_of_method,a,b)\n"
   ]
  },
  {
   "cell_type": "code",
   "execution_count": 7,
   "metadata": {},
   "outputs": [],
   "source": [
    "###### "
   ]
  },
  {
   "cell_type": "code",
   "execution_count": null,
   "metadata": {},
   "outputs": [],
   "source": []
  },
  {
   "cell_type": "code",
   "execution_count": null,
   "metadata": {},
   "outputs": [],
   "source": []
  },
  {
   "cell_type": "code",
   "execution_count": null,
   "metadata": {},
   "outputs": [],
   "source": []
  },
  {
   "cell_type": "code",
   "execution_count": null,
   "metadata": {},
   "outputs": [],
   "source": []
  },
  {
   "cell_type": "code",
   "execution_count": null,
   "metadata": {},
   "outputs": [],
   "source": []
  },
  {
   "cell_type": "code",
   "execution_count": null,
   "metadata": {},
   "outputs": [],
   "source": []
  },
  {
   "cell_type": "code",
   "execution_count": null,
   "metadata": {},
   "outputs": [],
   "source": []
  }
 ],
 "metadata": {
  "kernelspec": {
   "display_name": "Python 3",
   "language": "python",
   "name": "python3"
  },
  "language_info": {
   "codemirror_mode": {
    "name": "ipython",
    "version": 3
   },
   "file_extension": ".py",
   "mimetype": "text/x-python",
   "name": "python",
   "nbconvert_exporter": "python",
   "pygments_lexer": "ipython3",
   "version": "3.6.4"
  }
 },
 "nbformat": 4,
 "nbformat_minor": 2
}
