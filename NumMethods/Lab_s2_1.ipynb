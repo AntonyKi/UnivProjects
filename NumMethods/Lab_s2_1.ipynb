{
 "cells": [
  {
   "cell_type": "code",
   "execution_count": 1,
   "metadata": {},
   "outputs": [],
   "source": [
    "import matplotlib.pyplot as plt\n",
    "import numpy as np\n",
    "\n",
    "\n",
    "%matplotlib inline\n",
    "\n",
    "#for DRAWING PLOTS\n",
    "def plot(x, func):\n",
    "    \n",
    "    y =np.zeros(x.shape)\n",
    "    for i in range(len(y)):\n",
    "        y[i] = func(x[i])\n",
    "    \n",
    "    plt.plot(x,y)\n",
    "    plt.show()"
   ]
  },
  {
   "cell_type": "code",
   "execution_count": 5,
   "metadata": {},
   "outputs": [
    {
     "name": "stdout",
     "output_type": "stream",
     "text": [
      "x**2*cos(x) + 2*x*sin(x)\n",
      "2.2232442754839328\n"
     ]
    }
   ],
   "source": [
    "from sympy import *\n",
    "x123 =Symbol('x')\n",
    "y123 = (x123**2)*sin(x123)\n",
    "dy123 = y123.diff(x123)\n",
    "print(dy123)\n",
    "dy123normal = lambdify(x123, dy123, 'numpy')\n",
    "print(dy123normal(1))"
   ]
  },
  {
   "cell_type": "code",
   "execution_count": null,
   "metadata": {},
   "outputs": [],
   "source": [
    "#amount of dots we use\n",
    "n = 10\n",
    "\n",
    "#function we approximate\n",
    "func = lambda x: np.sin(x) * 2 *(1/x)**(x//5)\n",
    "\n",
    "#C[l , r]\n",
    "l = 2\n",
    "r = 10\n",
    "\n",
    "# m is how much equations we have  and m-1 is power of our best square aproximation polynome\n",
    "m = 5\n",
    "\n",
    "A = np.zeros((m,m) )\n",
    "b = np.zeros((m))\n",
    "\n",
    "#solving a system and finding coefficients\n",
    "for i in range(m):\n",
    "    for j in range(m):\n",
    "        for n1 in range(n):\n",
    "            x = 1.*(r-l)*n1/(n-1) + l\n",
    "            A[i][j] += x**(i+j)\n",
    "    \n",
    "    for n1 in range(n):\n",
    "            x = 1.*(r-l)*n1/(n-1) + l\n",
    "            b[i] += x**i*func(x)\n",
    "            \n",
    "x = np.linspace(l,r,100)\n",
    "summ = 0\n",
    "poly =  np.linalg.inv(A) @ b\n",
    "\n",
    "#printing needed poly\n",
    "for i in range(len(poly)):\n",
    "    print(\"{} * x^{}\".format(round(poly[i],5),i),end = '+' if i<len(poly)-1 else '')\n",
    "    \n",
    "#Delta calcing   \n",
    "###############\n",
    "pp = np.flip(poly, 0)\n",
    "p = np.poly1d(pp)\n",
    "summ = 0\n",
    "for n1 in range(n):\n",
    "    x1 = 1.*(r-l)*n1/(n-1) + l\n",
    "    summ += (func(x1) - np.polyval(p, x1))**2\n",
    "delta = np.sqrt(summ/n)\n",
    "print(\"\\ndelta:\")\n",
    "print(delta)\n",
    "###############\n",
    "\n",
    "#graphic plot\n",
    "x = np.linspace(l,r,100)\n",
    "plot(x,func)\n",
    "plot( x , lambda x,vals = poly : sum ( x**i*vals[i] for i in range(len(vals))) )\n",
    "\n"
   ]
  },
  {
   "cell_type": "code",
   "execution_count": null,
   "metadata": {},
   "outputs": [],
   "source": []
  }
 ],
 "metadata": {
  "kernelspec": {
   "display_name": "Python 3",
   "language": "python",
   "name": "python3"
  },
  "language_info": {
   "codemirror_mode": {
    "name": "ipython",
    "version": 3
   },
   "file_extension": ".py",
   "mimetype": "text/x-python",
   "name": "python",
   "nbconvert_exporter": "python",
   "pygments_lexer": "ipython3",
   "version": "3.6.4"
  }
 },
 "nbformat": 4,
 "nbformat_minor": 2
}
