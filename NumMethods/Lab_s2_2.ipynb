{
 "cells": [
  {
   "cell_type": "code",
   "execution_count": 55,
   "metadata": {},
   "outputs": [
    {
     "name": "stdout",
     "output_type": "stream",
     "text": [
      "[-0.90617985 -0.53846931  0.          0.53846931  0.90617985]\n",
      "-0.9061798459386644\n",
      "0.23692688505618792\n",
      "1.8530435296111172\n",
      "-------\n",
      "-0.5384693101056828\n",
      "0.4786286704993668\n",
      "5.342222222222215\n",
      "-------\n",
      "0.0\n",
      "0.5688888888888888\n",
      "9.324444444444437\n",
      "-------\n",
      "0.5384693101056831\n",
      "0.4786286704993667\n",
      "12.813623137055535\n",
      "-------\n",
      "0.906179845938664\n",
      "0.23692688505618922\n",
      "14.666666666666663\n",
      "-------\n",
      "14.666666666666663\n",
      "       5        3\n",
      "7.875 x - 8.75 x + 1.875 x\n"
     ]
    }
   ],
   "source": [
    "import numpy as np\n",
    "func = lambda x : x**2 + 7\n",
    "p0 = np.poly1d([1])\n",
    "p1 = np.poly1d([1,0])\n",
    "px = np.poly1d([1,0])\n",
    "l = -1 \n",
    "r = 1\n",
    "m = 5\n",
    "integral = 0\n",
    "for i in range(m-1):\n",
    "    p2 = np.poly1d(p1)\n",
    "    p1 = ((2*i+3)/(i+2))*p1*px - ((i+1)/(i+2))*p0\n",
    "    p0 = np.poly1d(p2)\n",
    "legvals = p1.r\n",
    "legvals = np.sort(legvals)\n",
    "print(legvals)\n",
    "dp = np.polyder(p1)\n",
    "for i in range(m):\n",
    "    xi = legvals[i] \n",
    "    wi = 2/((1 - xi**2)*(np.polyval(dp,xi))**2)\n",
    "    integral += (wi)*func(xi)\n",
    "    print(xi)\n",
    "    print(wi)\n",
    "    print(integral)\n",
    "    print(\"-------\")\n",
    "print(integral)\n",
    "print(p1)"
   ]
  },
  {
   "cell_type": "code",
   "execution_count": null,
   "metadata": {},
   "outputs": [],
   "source": []
  },
  {
   "cell_type": "code",
   "execution_count": null,
   "metadata": {},
   "outputs": [],
   "source": []
  },
  {
   "cell_type": "code",
   "execution_count": null,
   "metadata": {},
   "outputs": [],
   "source": []
  },
  {
   "cell_type": "code",
   "execution_count": null,
   "metadata": {},
   "outputs": [],
   "source": []
  }
 ],
 "metadata": {
  "kernelspec": {
   "display_name": "Python 3",
   "language": "python",
   "name": "python3"
  },
  "language_info": {
   "codemirror_mode": {
    "name": "ipython",
    "version": 3
   },
   "file_extension": ".py",
   "mimetype": "text/x-python",
   "name": "python",
   "nbconvert_exporter": "python",
   "pygments_lexer": "ipython3",
   "version": "3.6.4"
  }
 },
 "nbformat": 4,
 "nbformat_minor": 2
}
