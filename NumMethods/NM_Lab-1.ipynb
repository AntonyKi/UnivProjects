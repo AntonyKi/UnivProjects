def: add(int a int b)
    return a+b;
add(1,2)
